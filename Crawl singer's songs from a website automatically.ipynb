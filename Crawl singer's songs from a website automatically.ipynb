{
 "cells": [
  {
   "cell_type": "markdown",
   "id": "ab882860",
   "metadata": {},
   "source": [
    "# Crawl singer's songs from a website automatically\n",
    "objects:\n",
    "Automatically cratch information about all the songs of a certain singer on a music website, including: singer name, song title, and lyrics.\n",
    "1. Automatically open the login page of the website;\n",
    "2. Automatically input mobile phone number and password;\n",
    "3. Intercept and recognize the picture verification code, and then automatically fill in the recognized number into the verification code input box;\n",
    "4. Automatically click the [Login] button;\n",
    "5. Extract and store song information\n",
    "\n",
    "Edit by David    Mar 23，2023"
   ]
  },
  {
   "cell_type": "code",
   "execution_count": 1,
   "id": "221b0aa1",
   "metadata": {},
   "outputs": [
    {
     "name": "stdout",
     "output_type": "stream",
     "text": [
      "Requirement already satisfied: pytesseract in d:\\anaconda3\\lib\\site-packages (0.3.10)\n",
      "Requirement already satisfied: packaging>=21.3 in d:\\anaconda3\\lib\\site-packages (from pytesseract) (23.0)\n",
      "Requirement already satisfied: Pillow>=8.0.0 in d:\\anaconda3\\lib\\site-packages (from pytesseract) (8.4.0)\n"
     ]
    }
   ],
   "source": [
    "!pip install pytesseract"
   ]
  },
  {
   "cell_type": "markdown",
   "id": "94abf272",
   "metadata": {},
   "source": [
    "# import re, requests, and selenium"
   ]
  },
  {
   "cell_type": "code",
   "execution_count": 2,
   "id": "4ab1eff2",
   "metadata": {},
   "outputs": [],
   "source": [
    "import re\n",
    "import requests\n",
    "import pytesseract\n",
    "from selenium import webdriver\n",
    "from selenium.webdriver.chrome.options import Options\n",
    "from selenium.webdriver.common.by import By"
   ]
  },
  {
   "cell_type": "code",
   "execution_count": 3,
   "id": "1320ebb3",
   "metadata": {},
   "outputs": [],
   "source": [
    "pytesseract.pytesseract.tesseract_cmd = 'C:\\\\Program Files\\\\Tesseract-OCR\\\\tesseract.exe'"
   ]
  },
  {
   "cell_type": "markdown",
   "id": "3bdfdda9",
   "metadata": {},
   "source": [
    "# Automatically log in to the web page"
   ]
  },
  {
   "cell_type": "code",
   "execution_count": 4,
   "id": "2923c2f3",
   "metadata": {},
   "outputs": [
    {
     "name": "stdout",
     "output_type": "stream",
     "text": [
      "Please insert the phone number: 13761736321\n",
      "Please insert the password: 123456\n"
     ]
    }
   ],
   "source": [
    "# Get phone number and password\n",
    "phone = input('Please insert the phone number: ')\n",
    "password = input('Please insert the password: ')"
   ]
  },
  {
   "cell_type": "code",
   "execution_count": 5,
   "id": "c37d5b3b",
   "metadata": {},
   "outputs": [
    {
     "name": "stdout",
     "output_type": "stream",
     "text": [
      "Please insert the singer' name: A Day Away\n"
     ]
    }
   ],
   "source": [
    "# Get the singer's name\n",
    "singer_name = input('Please insert the singer\\' name: ')"
   ]
  },
  {
   "cell_type": "code",
   "execution_count": 6,
   "id": "707b6825",
   "metadata": {},
   "outputs": [],
   "source": [
    "# Set browser silent mode\n",
    "opts = Options()\n",
    "opts.headless = True"
   ]
  },
  {
   "cell_type": "code",
   "execution_count": 7,
   "id": "e04353b8",
   "metadata": {},
   "outputs": [],
   "source": [
    "# Initialize the Google Chrome driver and open the web page （Chrome version 111.0.5563.111）\n",
    "driver = webdriver.Chrome(options=opts)\n",
    "driver.get('https://music.facode.cn/index.php/Home/Index/login.html')"
   ]
  },
  {
   "cell_type": "code",
   "execution_count": 8,
   "id": "7c4c85e1",
   "metadata": {},
   "outputs": [],
   "source": [
    "# Navigate to the label of the mobile phone number input box and enter the mobile phone number (use driver.find_element_by_name)\n",
    "user_tag = driver.find_element(by=By.NAME, value='phone')\n",
    "user_tag.send_keys(phone)\n",
    "\n",
    "# Navigate the label of the password input box and enter the password\n",
    "password_tag = driver.find_element(by=By.NAME, value='pass')\n",
    "password_tag.send_keys(password)"
   ]
  },
  {
   "cell_type": "code",
   "execution_count": 9,
   "id": "1ceb4127",
   "metadata": {},
   "outputs": [],
   "source": [
    "# Navigate to the label where the image verification code is located\n",
    "img_tag = driver.find_element(by=By.ID, value='graph_img')\n",
    "\n",
    "# Define the saved screenshot name and Save the captured image as Verification code image.png\n",
    "png_path = '../Verification_code_picture.png'\n",
    "\n",
    "with open(png_path, 'wb') as f:\n",
    "    f.write(img_tag.screenshot_as_png)\n",
    "    \n",
    "# Identify the content in the picture and remove redundant symbols\n",
    "code = pytesseract.image_to_string(png_path)\n",
    "code = code.strip()\n",
    "\n",
    "# Locate the label of the verification code input box and enter the verification code\n",
    "code_tag = driver.find_element(by=By.NAME, value='verify')\n",
    "code_tag.send_keys(code)\n",
    "\n",
    "# Locate the label of the [Login] button and click the Login button\n",
    "login_tag = driver.find_element(by=By.CLASS_NAME, value='login-btn')\n",
    "login_tag.click()"
   ]
  },
  {
   "cell_type": "code",
   "execution_count": 10,
   "id": "6113d897",
   "metadata": {},
   "outputs": [],
   "source": [
    "# Get cookie list and create a null string to store the cookie\n",
    "cookie_list = driver.get_cookies()\n",
    "cookies = ''\n",
    "\n",
    "# Loop through the cookie list and take out the target cookie information\n",
    "for cookie in cookie_list:\n",
    "    cookies += '{}={};'.format(cookie['name'], cookie['value'])\n",
    "    \n",
    "# set request header\n",
    "header = {'Cookie': cookies}\n",
    "\n",
    "# close the browser\n",
    "driver.quit()"
   ]
  },
  {
   "cell_type": "markdown",
   "id": "422ff135",
   "metadata": {},
   "source": [
    "# Request singer song data and save to text files"
   ]
  },
  {
   "cell_type": "code",
   "execution_count": 11,
   "id": "8fb392cd",
   "metadata": {},
   "outputs": [],
   "source": [
    "# Set request link, request header, request data\n",
    "search_url = 'https://music.facode.cn//index.php/Home/Index/search_list.html'\n",
    "\n",
    "data = {\n",
    "    'value': singer_name,\n",
    "    'info': '1',\n",
    "    'page': 1,\n",
    "}"
   ]
  },
  {
   "cell_type": "code",
   "execution_count": 12,
   "id": "709ea554",
   "metadata": {},
   "outputs": [],
   "source": [
    "# get response data\n",
    "search_res = requests.post(search_url, data=data, headers=header)\n",
    "search_json = search_res.json()"
   ]
  },
  {
   "cell_type": "code",
   "execution_count": 13,
   "id": "b9732d07",
   "metadata": {},
   "outputs": [
    {
     "name": "stdout",
     "output_type": "stream",
     "text": [
      "Begin to scratch 1 page....\n",
      "So Like You-A Day Away The extraction and writing of lyrics has been completed!\n",
      "She Needs To Know-A Day Away The extraction and writing of lyrics has been completed!\n",
      "Addiction-A Day Away The extraction and writing of lyrics has been completed!\n",
      "Take Me For Granted-A Day Away The extraction and writing of lyrics has been completed!\n",
      "Coldest Night-A Day Away The extraction and writing of lyrics has been completed!\n",
      "Go Back...-A Day Away The extraction and writing of lyrics has been completed!\n",
      "Major Tom-A Day Away The extraction and writing of lyrics has been completed!\n",
      "Leave A Message-A Day Away The extraction and writing of lyrics has been completed!\n",
      "Coldest Night-A Day Away The extraction and writing of lyrics has been completed!\n",
      "Feel The Rush-A Day Away The extraction and writing of lyrics has been completed!\n",
      "Dressed To Thrill-A Day Away The extraction and writing of lyrics has been completed!\n",
      "Kiss And Tell-A Day Away The extraction and writing of lyrics has been completed!\n",
      "Begin to scratch 2 page....\n",
      "Black N' Blues-A Day Away The extraction and writing of lyrics has been completed!\n",
      "Push Her Back-A Day Away The extraction and writing of lyrics has been completed!\n",
      "Tell Me, Tell Me-A Day Away The extraction and writing of lyrics has been completed!\n",
      "Her And Me-A Day Away The extraction and writing of lyrics has been completed!\n",
      "Sorry For The Let Down-A Day Away The extraction and writing of lyrics has been completed!\n",
      "Call Me Crazy-A Day Away The extraction and writing of lyrics has been completed!\n",
      "Better Off This Way-A Day Away The extraction and writing of lyrics has been completed!\n",
      "Here We Go Again-A Day Away The extraction and writing of lyrics has been completed!\n"
     ]
    }
   ],
   "source": [
    "# Get the total number of search results and calculate the total number of pages\n",
    "result_num = int(search_json['totalnum'])\n",
    "page_num = result_num // 12\n",
    "if result_num % 12 != 0:\n",
    "    page_num += 1\n",
    "\n",
    "# The number of times to loop through the total number of pages, starting from page 2\n",
    "for page in range(1, page_num + 1):\n",
    "\n",
    "    # Modify the number of pages in the request data dictionary\n",
    "    data['page'] = page\n",
    "    print('Begin to scratch {} page....'.format(page))\n",
    "    \n",
    "    # get response data\n",
    "    search_res = requests.post(search_url, data=data, headers=header)\n",
    "    search_json = search_res.json()  \n",
    "    \n",
    "    # Loop through songs data\n",
    "    for song in search_json['voice']:\n",
    "        filename = '{}-{}'.format(song['name'], song['author'].replace('/', ''))\n",
    "        \n",
    "         # Request lyrics data\n",
    "        lyrics_res = requests.post('https://music.facode.cn//index.php/Home/Index/lyrics.html', data={'id': song['id']}, headers=header)\n",
    "        lyrics_json = lyrics_res.json()  \n",
    "        \n",
    "        # Skip if no lyrics exist\n",
    "        if lyrics_json['data'] is None:\n",
    "            print(filename + ' there is no lyric!')\n",
    "            continue   \n",
    "        \n",
    "        # Cleansing Lyrics Using Regular Expressions\n",
    "        match_result = re.sub('\\[.*?]', '', lyrics_json['data'])\n",
    "\n",
    "        # write lyrics to text file\n",
    "        with open('E:/风变/scrath webpages/lyrics/' + filename + '.txt', 'w') as f:\n",
    "            f.write(match_result)\n",
    "            \n",
    "        # Print the written songs information\n",
    "        print(filename + ' The extraction and writing of lyrics has been completed!')\n",
    "            \n",
    "            "
   ]
  }
 ],
 "metadata": {
  "kernelspec": {
   "display_name": "Python 3 (ipykernel)",
   "language": "python",
   "name": "python3"
  },
  "language_info": {
   "codemirror_mode": {
    "name": "ipython",
    "version": 3
   },
   "file_extension": ".py",
   "mimetype": "text/x-python",
   "name": "python",
   "nbconvert_exporter": "python",
   "pygments_lexer": "ipython3",
   "version": "3.9.7"
  }
 },
 "nbformat": 4,
 "nbformat_minor": 5
}
