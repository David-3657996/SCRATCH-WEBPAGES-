{
 "cells": [
  {
   "cell_type": "markdown",
   "id": "e61e12cd",
   "metadata": {},
   "source": [
    "# Project objectives:\n",
    "1. Fetch the earliest comments of 1 blog without logging in\n",
    "2. Log in to the website\n",
    "3. Post a comment (logging in is necessary): comment on the current blog\n",
    "\n",
    "Edit by David Yang     Mar 24, 2023"
   ]
  },
  {
   "cell_type": "code",
   "execution_count": 1,
   "id": "822fdce7",
   "metadata": {},
   "outputs": [],
   "source": [
    "import requests\n",
    "import csv\n",
    "from bs4 import BeautifulSoup"
   ]
  },
  {
   "cell_type": "markdown",
   "id": "fa6039c1",
   "metadata": {},
   "source": [
    "## Crawl the earliest comments "
   ]
  },
  {
   "cell_type": "code",
   "execution_count": 2,
   "id": "a630e0a8",
   "metadata": {},
   "outputs": [],
   "source": [
    "# create a comments list for all comments in the earliest page\n",
    "data_list = []"
   ]
  },
  {
   "cell_type": "code",
   "execution_count": 3,
   "id": "5acf4634",
   "metadata": {},
   "outputs": [],
   "source": [
    "comments_url = 'https://wordpress-edu-3autumn.localprod.oc.forchange.cn/all-about-the-future_01/#comments/'\n",
    "\n",
    "# get the request header\n",
    "headers = {\n",
    "    'User-Agent': 'Mozilla/5.0 (Windows NT 10.0; Win64; x64) AppleWebKit/537.36 (KHTML, like Gecko) Chrome/70.0.3538.110 Safari/537.36'\n",
    "}\n",
    "\n",
    "res = requests.get(comments_url, headers = headers)\n",
    "bs = BeautifulSoup(res.text, 'html.parser')"
   ]
  },
  {
   "cell_type": "code",
   "execution_count": 4,
   "id": "7439248f",
   "metadata": {},
   "outputs": [],
   "source": [
    "# creat a infor dict for one comment\n",
    "info_dict = {}"
   ]
  },
  {
   "cell_type": "code",
   "execution_count": 5,
   "id": "7a753349",
   "metadata": {},
   "outputs": [],
   "source": [
    "# find the positions of all comments\n",
    "comment_list = bs.find('ol',class_='comment-list').find_all('li')"
   ]
  },
  {
   "cell_type": "code",
   "execution_count": 6,
   "id": "70dc03b8",
   "metadata": {},
   "outputs": [],
   "source": [
    "# inplement each comment\n",
    "for comment in comment_list :\n",
    "    user = comment.find('b').text\n",
    "    \n",
    "    comment_date = comment.find('time')\n",
    "    \n",
    "    \n",
    "    comment_content = comment.find('p').text\n",
    "    \n",
    "    info_dict['user'] = user\n",
    "    info_dict['datetime'] = comment_date\n",
    "    info_dict['content'] = comment_content\n",
    "    \n",
    "    data_list.append(info_dict)\n"
   ]
  },
  {
   "cell_type": "code",
   "execution_count": 7,
   "id": "7a8728a0",
   "metadata": {},
   "outputs": [],
   "source": [
    "# save the comments into csv file\n",
    "with open('comments.csv', 'w', encoding='utf-8') as f:\n",
    "    f_csv = csv.DictWriter(f, fieldnames=['user','datetime','content'])\n",
    "    f_csv.writeheader()\n",
    "    f_csv.writerows(data_list)"
   ]
  },
  {
   "cell_type": "markdown",
   "id": "751647e2",
   "metadata": {},
   "source": [
    "##  Log in and obtain the cookies"
   ]
  },
  {
   "cell_type": "code",
   "execution_count": 8,
   "id": "eb342b01",
   "metadata": {},
   "outputs": [],
   "source": [
    "login_url = 'https://wordpress-edu-3autumn.localprod.oc.forchange.cn/wp-login.php'"
   ]
  },
  {
   "cell_type": "code",
   "execution_count": 9,
   "id": "d13d8ad7",
   "metadata": {},
   "outputs": [
    {
     "name": "stdout",
     "output_type": "stream",
     "text": [
      "Pls input username: yuangangyang608@gmail.com\n",
      "Pls input password: 123456\n"
     ]
    }
   ],
   "source": [
    "username = input('Pls input username: ')\n",
    "passward = input('Pls input password: ')"
   ]
  },
  {
   "cell_type": "code",
   "execution_count": 10,
   "id": "3326dc73",
   "metadata": {},
   "outputs": [],
   "source": [
    "# get the request body of login\n",
    "login_data = {'log': username,\n",
    "'pwd': passward,\n",
    "'wp-submit': '登录',\n",
    "'redirect_to': 'https://wordpress-edu-3autumn.localprod.oc.forchange.cn',\n",
    "'testcookie': 1}"
   ]
  },
  {
   "cell_type": "code",
   "execution_count": 11,
   "id": "b2d8879e",
   "metadata": {},
   "outputs": [],
   "source": [
    "login_res = requests.post(login_url, headers = headers, data = login_data)\n",
    "\n",
    "cookies = login_res.cookies"
   ]
  },
  {
   "cell_type": "markdown",
   "id": "bd28d2be",
   "metadata": {},
   "source": [
    "## Send a comment and confirm"
   ]
  },
  {
   "cell_type": "code",
   "execution_count": 12,
   "id": "b25a8733",
   "metadata": {},
   "outputs": [
    {
     "name": "stdout",
     "output_type": "stream",
     "text": [
      "Pls input comments: It's great!\n"
     ]
    }
   ],
   "source": [
    "comment_url = 'https://wordpress-edu-3autumn.localprod.oc.forchange.cn/all-about-the-future_01/'\n",
    "comment = input('Pls input comments: ')"
   ]
  },
  {
   "cell_type": "code",
   "execution_count": 13,
   "id": "32b38edd",
   "metadata": {},
   "outputs": [],
   "source": [
    "# get the request body of comment page\n",
    "comment_data = {'comment': comment,\n",
    "'submit': '发表评论',\n",
    "'comment_post_ID': 13,\n",
    "'comment_parent': 0}\n",
    "\n",
    "comment_res = requests.post(comment_url, headers=headers, data=comment_data, cookies=cookies)"
   ]
  },
  {
   "cell_type": "code",
   "execution_count": 14,
   "id": "f9574acc",
   "metadata": {},
   "outputs": [
    {
     "name": "stdout",
     "output_type": "stream",
     "text": [
      "sent comments successfully！\n"
     ]
    }
   ],
   "source": [
    "if comment_res.status_code == 200:\n",
    "    print('sent comments successfully！')\n",
    "else:\n",
    "\n",
    "    print('sent failed！requests status code is {}'.format(comment_res.status_code))"
   ]
  },
  {
   "cell_type": "code",
   "execution_count": null,
   "id": "17e80eda",
   "metadata": {},
   "outputs": [],
   "source": []
  }
 ],
 "metadata": {
  "kernelspec": {
   "display_name": "Python 3 (ipykernel)",
   "language": "python",
   "name": "python3"
  },
  "language_info": {
   "codemirror_mode": {
    "name": "ipython",
    "version": 3
   },
   "file_extension": ".py",
   "mimetype": "text/x-python",
   "name": "python",
   "nbconvert_exporter": "python",
   "pygments_lexer": "ipython3",
   "version": "3.9.7"
  }
 },
 "nbformat": 4,
 "nbformat_minor": 5
}
